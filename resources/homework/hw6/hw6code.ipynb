{
 "cells": [
  {
   "cell_type": "markdown",
   "metadata": {},
   "source": [
    "<h1><center>HW6 Problem 5c</center></h1>"
   ]
  },
  {
   "cell_type": "markdown",
   "metadata": {},
   "source": [
    "We have one import for this problem. Please do not import any other packages."
   ]
  },
  {
   "cell_type": "code",
   "execution_count": null,
   "metadata": {},
   "outputs": [],
   "source": [
    "import numpy as np"
   ]
  },
  {
   "attachments": {
    "image-3.png": {
     "image/png": "[encoded data removed]"
    },
    "image-4.png": {
     "image/png": "[encoded data removed]"
    }
   },
   "cell_type": "markdown",
   "metadata": {},
   "source": [
    "Fill in the blanks (marked by ...) to complete the function `paths` below. This function should take as input two nonnegative integers $n$ and $m$ return an array containing all the different paths from $(0,0)$ to $(n, m)$ that use only upward and rightward steps of length one. Each path should be represented as a string consisting of the emojis  ⬆️ and ➡️. You should copy-paste the emojis directly from this cell to make sure you are using the correct ones. Don't forget that emojis need to be enclosed in quotes to be part of a Python string.\n",
    "\n",
    "The illustration below shows that there are three paths from $(0, 0)$ to $(2, 1)$.\n",
    "\n",
    "![image-4.png](attachment:image-4.png)\n",
    "\n",
    "This corresponds to the function call and output shown below.\n",
    "\n",
    "![image-3.png](attachment:image-3.png)\n",
    "\n",
    "**Hint**: Use the result of part (b). This implementation is based on that formula, repeated here for your convenience:\n",
    "\n",
    "\\begin{align}\n",
    "&P(0, m) = 1 \\\\\n",
    "&P(n, 0) = 1 \\\\\n",
    "&P(n, m) = P(n-1, m) + P(n, m-1)~~~\\mathrm{for}~n>0~\\mathrm{and}~m>0.\n",
    "\\end{align}"
   ]
  },
  {
   "cell_type": "code",
   "execution_count": null,
   "metadata": {},
   "outputs": [],
   "source": [
    "def paths(n,m):\n",
    "    '''Given two nonnegative integers n and m, return an array \n",
    "    of all paths from (0,0) to (n, m) using only ⬆️ and ➡️.'''\n",
    "    if n==0:\n",
    "        return np.array([\"...\"]) # fill in\n",
    "    if m==0:\n",
    "        return np.array([\"...\"]) # fill in\n",
    "    result = np.array([])\n",
    "    for path in paths(n-1, m):\n",
    "        result = np.append(result, ...) # fill in\n",
    "    for path in paths(n, m-1):\n",
    "        result = np.append(result, ...) # fill in\n",
    "    return result"
   ]
  },
  {
   "cell_type": "markdown",
   "metadata": {},
   "source": [
    "Check that your function works as intended on the examples below, and on other examples if you wish."
   ]
  },
  {
   "cell_type": "code",
   "execution_count": null,
   "metadata": {},
   "outputs": [],
   "source": [
    "paths(2, 1)"
   ]
  },
  {
   "cell_type": "code",
   "execution_count": null,
   "metadata": {
    "scrolled": true
   },
   "outputs": [],
   "source": [
    "paths(3,2)"
   ]
  },
  {
   "cell_type": "markdown",
   "metadata": {},
   "source": [
    "<h3> To Submit </h3>\n",
    "\n",
    "In the top left corner, in the File menu, select Download as Python (.py). \n",
    "\n",
    "You must save your file as `hw6code.py` for the Gradescope autograder to run. Then, upload this file to the assignment called Homework 6 Code on Gradescope. \n",
    "\n",
    "Don't forget to do part (d) of this problem, in the main assignment!"
   ]
  }
 ],
 "metadata": {
  "kernelspec": {
   "display_name": "Python 3 (ipykernel)",
   "language": "python",
   "name": "python3"
  },
  "language_info": {
   "codemirror_mode": {
    "name": "ipython",
    "version": 3
   },
   "file_extension": ".py",
   "mimetype": "text/x-python",
   "name": "python",
   "nbconvert_exporter": "python",
   "pygments_lexer": "ipython3",
   "version": "3.9.7"
  }
 },
 "nbformat": 4,
 "nbformat_minor": 2
}
